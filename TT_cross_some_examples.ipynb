{
  "nbformat": 4,
  "nbformat_minor": 0,
  "metadata": {
    "accelerator": "GPU",
    "colab": {
      "name": "TT_cross_some examples.ipynb",
      "provenance": [],
      "collapsed_sections": []
    },
    "kernelspec": {
      "display_name": "Python 3",
      "name": "python3"
    },
    "language_info": {
      "name": "python"
    }
  },
  "cells": [
    {
      "cell_type": "markdown",
      "metadata": {
        "id": "Tqs_9LLyxXb1"
      },
      "source": [
        "This notebook is based on the TT-cross algorithm proposed in the following paper:\n",
        " \\\\\n",
        "Oseledets I, Tyrtyshnikov E. TT-cross approximation for multidimensional arrays. Linear Algebra and its Applications. 2010 Jan 1;432(1):70-88."
      ]
    },
    {
      "cell_type": "code",
      "metadata": {
        "id": "q7cqMRQZ4M3s"
      },
      "source": [
        "import os\n",
        "os.environ[\"JAX_ENABLE_X64\"] = \"True\"\n",
        "\n",
        "import jax.numpy as jnp\n",
        "import numpy as np\n",
        "from jax import random\n",
        "import matplotlib.pyplot as plt\n",
        "\n",
        "key = random.PRNGKey(42)\n",
        "\n",
        "!git clone 'https://github.com/LuchnikovI/TT-cross-implementation-on-jax'\n",
        "%cd 'TT-cross-implementation-on-jax'\n",
        "\n",
        "# The tools for TT-cross based reconstruction and some operations with TT format\n",
        "from tt import TT_cross, eval, compression, relative_difference_sq, dot"
      ],
      "execution_count": null,
      "outputs": []
    },
    {
      "cell_type": "markdown",
      "metadata": {
        "id": "FiDVUib2H81F"
      },
      "source": [
        "As the first example we consider TT-based reconstruction of a simple tensor that is defined by the following identity\n",
        "$$T_{j_1, j_2, \\dots j_N} = i\\sin\\left(j_1 + j_2 + \\dots + j_N\\right) + \\exp\\left(\\frac{1}{N}\\left(j_1 + j_2 + \\dots + j_N\\right)\\right).$$ This tensor has TT-rank equal to $3$ and is an ''easy'' case for the TT-cross based reconstruction. We define this tensor through the function below that is used as a ''black box'' in the TT-cross algorithm."
      ]
    },
    {
      "cell_type": "code",
      "metadata": {
        "id": "TSJrZcHIGZbf"
      },
      "source": [
        "# We assume the following shape of the tensor\n",
        "shape = 20 * (5,)\n",
        "\n",
        "# The function that defines the tensor\n",
        "def f(x):\n",
        "    \"\"\"The function returns values of the tensor given the set of indices.\n",
        "\n",
        "    Args:\n",
        "        x: int array of shape (number_of_indices, N).\n",
        "\n",
        "    Returns:\n",
        "        complex valued tensor of shape (number_of_indices,)\n",
        "        filled by the values of the tensor.\"\"\"\n",
        "\n",
        "    return 1j*jnp.sin(x.sum(-1)) + jnp.exp(x.mean(-1))"
      ],
      "execution_count": 2,
      "outputs": []
    },
    {
      "cell_type": "markdown",
      "metadata": {
        "id": "OEmrWmyXKaWl"
      },
      "source": [
        "Next, we apply the TT-cross algorithm to this function in order to reconstruct the TT format of a tensor from a few evaluations of this function."
      ]
    },
    {
      "cell_type": "code",
      "metadata": {
        "id": "mPQcz1eRGYge"
      },
      "source": [
        "# ========== Parameters ============ #\n",
        "eps = 1e-10  # rounding accuracy\n",
        "max_r = 10  # max. TT rank used for TT-cross based reconstruction\n",
        "number_of_sweeps = 3  # number of DMRG sweeps used for TT-cross based reconstruction\n",
        "\n",
        "# define TT-cross object\n",
        "key, subkey = random.split(key)\n",
        "tt_cross = TT_cross(subkey, max_r, shape)\n",
        "\n",
        "# perform DMRG sweeps\n",
        "while tt_cross.current_sweep < number_of_sweeps:\n",
        "    # current arguments (indices) that are need to be evaluated\n",
        "    args = tt_cross.get_arg()\n",
        "    # function evaluation\n",
        "    measurements = f(args)\n",
        "    # update of TT decomposition\n",
        "    tt_cross.update(measurements)\n",
        "# get reconstructed TT kernels\n",
        "cross_kernels = tt_cross.get_tt_kernels()\n",
        "# compression of the reconstructed TT representation\n",
        "cross_kernels = compression(cross_kernels, eps)"
      ],
      "execution_count": 3,
      "outputs": []
    },
    {
      "cell_type": "markdown",
      "metadata": {
        "id": "SIxA8_6IKt0v"
      },
      "source": [
        "Now we can test how accurate the reconstructed representation is. For this purpose, we sample at random 10 arguments and evaluate the exact tensor and the reconstructed one for these 10 arguments."
      ]
    },
    {
      "cell_type": "code",
      "metadata": {
        "colab": {
          "base_uri": "https://localhost:8080/"
        },
        "id": "buWpOEJYHB2_",
        "outputId": "101488ef-ad73-48d4-805f-2c42f433bbc8"
      },
      "source": [
        "indices = tt_cross.random_args(key, 10)\n",
        "print('Randomly sampled exact values = \\n{}\\n'.format(f(indices).round(10)))\n",
        "print('Randomly sampled cross. approx. values = \\n{}\\n'.format(eval(cross_kernels, indices).round(10)))"
      ],
      "execution_count": 5,
      "outputs": [
        {
          "output_type": "stream",
          "name": "stdout",
          "text": [
            "Randomly sampled exact values = \n",
            "[54.59815003-0.99388865j 20.08553692-0.30481062j  2.71828183+0.91294525j\n",
            " 20.08553692-0.30481062j  1.        +0.j          2.71828183+0.91294525j\n",
            " 54.59815003-0.99388865j  2.71828183+0.91294525j  2.71828183+0.91294525j\n",
            "  1.        +0.j        ]\n",
            "\n",
            "Randomly sampled cross. approx. values = \n",
            "[54.59815003-0.99388865j 20.08553692-0.30481062j  2.71828183+0.91294525j\n",
            " 20.08553692-0.30481062j  1.        +0.j          2.71828183+0.91294525j\n",
            " 54.59815003-0.99388865j  2.71828183+0.91294525j  2.71828183+0.91294525j\n",
            "  1.        +0.j        ]\n",
            "\n"
          ]
        }
      ]
    },
    {
      "cell_type": "markdown",
      "metadata": {
        "id": "SI1KQaOmK0Vw"
      },
      "source": [
        "We also can check whether the TT-cross algorithm recognized the genuine TT-rank of the tensor that is equal to $3$. For this purpose, we plot the bond dimensions of all kernels below."
      ]
    },
    {
      "cell_type": "code",
      "metadata": {
        "colab": {
          "base_uri": "https://localhost:8080/",
          "height": 282
        },
        "id": "wPt7mTltHw93",
        "outputId": "8e36d976-beb0-424c-d0cf-d7dd7d19ad6b"
      },
      "source": [
        "plt.plot([cross_kernels[0].shape[0]] + [ker.shape[2] for ker in cross_kernels], 'b')"
      ],
      "execution_count": 6,
      "outputs": [
        {
          "output_type": "execute_result",
          "data": {
            "text/plain": [
              "[<matplotlib.lines.Line2D at 0x7f11d8f01550>]"
            ]
          },
          "metadata": {},
          "execution_count": 6
        },
        {
          "output_type": "display_data",
          "data": {
            "image/png": "[encoded data removed]",
            "text/plain": [
              "<Figure size 432x288 with 1 Axes>"
            ]
          },
          "metadata": {
            "needs_background": "light"
          }
        }
      ]
    },
    {
      "cell_type": "markdown",
      "metadata": {
        "id": "4IyZNUo8ylDX"
      },
      "source": [
        "As the second example, we consider TT-cross based reconstruction of a randomly generated tensor in the TT format. Real and imaginary parts of all kernels of the TT format are sampled from the i.i.d. Normal distribution with unit std, i.e. $N(0, 1)$. Shape of a tensor $(d_1, d_2, \\dots, d_N)$, where $N$ is the rank of tensor, is also sampled randomly; each $d_i$ takes values from the set $\\{2,\\dots,n\\}$ equiprobably. Bond dimensions $(b_{1,2}, b_{2,3}, \\dots, b_{N-1,N})$ are also sampled equiprobably from the set $\\{2,\\dots,m\\}$.\n",
        " \\\\\n",
        "In the cell below, we generate kernels as it is described here."
      ]
    },
    {
      "cell_type": "code",
      "metadata": {
        "id": "FJ9w4RzatwPe",
        "colab": {
          "base_uri": "https://localhost:8080/"
        },
        "outputId": "cefc4d31-dbe4-4a31-80c0-87fdf99b63c9"
      },
      "source": [
        "# ======= Parameters of the TT decomposition ======= #\n",
        "N = 20\n",
        "n = 12\n",
        "m = 15\n",
        "# ================================================== #\n",
        "\n",
        "# ============= Below we randomly generate shape ============== #\n",
        "shape = np.random.randint(2, n+1, (N,))\n",
        "\n",
        "# ============= Below we randomly generate bond dimensions ============= #\n",
        "bonds_between_kers = np.random.randint(2, m+1, (N-1,))\n",
        "left_bonds = np.concatenate([np.ones((1,), dtype=np.int64), bonds_between_kers])\n",
        "right_bonds = np.concatenate([bonds_between_kers, np.ones((1,), dtype=np.int64)])\n",
        "\n",
        "# ============= Below we randomly generate kernels of the TT format ============= #\n",
        "\n",
        "shapes = zip(left_bonds, shape, right_bonds)  # iterator over kernels' shapes\n",
        "\n",
        "# function that generates a random kernel from its shape\n",
        "def random_ker(shape):\n",
        "    ker = np.random.normal(size = (*shape, 2))\n",
        "    ker /= np.sqrt(2 * shape[0])\n",
        "    ker = ker[..., 0] + 1j * ker[..., 1]\n",
        "    return ker\n",
        "\n",
        "# random TT kernels in a list\n",
        "exact_kernels = [random_ker(shape) for shape in shapes]\n",
        "\n",
        "print('The shape of a tensor is {} \\n'.format(shape))"
      ],
      "execution_count": 7,
      "outputs": [
        {
          "output_type": "stream",
          "name": "stdout",
          "text": [
            "The shape of a tensor is [10  2  9  5  9 11  7  8  4  7  4  3 11  8  2  2  9 10  6  4] \n",
            "\n"
          ]
        }
      ]
    },
    {
      "cell_type": "markdown",
      "metadata": {
        "id": "9s22fGRnAVxx"
      },
      "source": [
        "TT-cross algorithm requires access to any element of a tensor. For this purpose, we define a function that returns values of a tensor given the set of indices."
      ]
    },
    {
      "cell_type": "code",
      "metadata": {
        "id": "Okc4oAaXwJ1O"
      },
      "source": [
        "def f(x):\n",
        "    \"\"\"The function returns values of the tensor given the set of indices.\n",
        "\n",
        "    Args:\n",
        "        x: int array os shape (number_of_indices, N).\n",
        "\n",
        "    Returns:\n",
        "        complex valued tensor of shape (number_of_indices,)\n",
        "        filled by the values of the tensor.\"\"\"\n",
        "\n",
        "    return eval(exact_kernels, x)"
      ],
      "execution_count": 8,
      "outputs": []
    },
    {
      "cell_type": "markdown",
      "metadata": {
        "id": "07cmCx95BtVK"
      },
      "source": [
        "Next, we apply the TT-cross algorithm to this function in order to reconstruct the TT format of a tensor from a few evaluations of this function."
      ]
    },
    {
      "cell_type": "code",
      "metadata": {
        "id": "SjAY9uCCA6S7"
      },
      "source": [
        "# ========== Parameters ============ #\n",
        "eps = 1e-10  # rounding accuracy\n",
        "max_r = 20  # max. TT rank used for TT-cross based reconstruction\n",
        "number_of_sweeps = 3  # number of DMRG sweeps used for TT-cross based reconstruction\n",
        "\n",
        "# define TT-cross object\n",
        "key, subkey = random.split(key)\n",
        "tt_cross = TT_cross(subkey, max_r, shape)\n",
        "\n",
        "# perform DMRG sweeps\n",
        "while tt_cross.current_sweep < number_of_sweeps:\n",
        "    # current arguments (indices) that are need to be evaluated\n",
        "    args = tt_cross.get_arg()\n",
        "    # function evaluation\n",
        "    measurements = f(args)\n",
        "    # update of TT decomposition\n",
        "    tt_cross.update(measurements)\n",
        "# get reconstructed TT kernels\n",
        "cross_kernels = tt_cross.get_tt_kernels()\n",
        "# compression of the reconstructed TT representation\n",
        "cross_kernels = compression(cross_kernels, eps)"
      ],
      "execution_count": 9,
      "outputs": []
    },
    {
      "cell_type": "markdown",
      "metadata": {
        "id": "1N1--EBZEUp1"
      },
      "source": [
        "Now we can test how accurate the reconstructed representation is.\n",
        "For this purpose, we sample at random 10 arguments and evaluate the exact tensor and the reconstructed one for these 10 arguments. Then we also calculate the square relative difference between tensors, i.e.\n",
        "$$\\frac{\\|T_{\\rm exact} - T_{\\rm reconstructed}\\|_F^2}{\\|T_{\\rm exact}\\|^2_F}.$$"
      ]
    },
    {
      "cell_type": "code",
      "metadata": {
        "id": "bgDxXIsLr_MD",
        "colab": {
          "base_uri": "https://localhost:8080/"
        },
        "outputId": "fed4fd93-cb3b-4bdc-ed13-d2adfbcc52d6"
      },
      "source": [
        "indices = tt_cross.random_args(key, 10)\n",
        "print('Randomly sampled exact values = \\n{}\\n'.format(eval(exact_kernels, indices)))\n",
        "print('Randomly sampled cross. approx. values = \\n{}\\n'.format(eval(cross_kernels, indices)))\n",
        "print('Relative difference between tensors = {}'.format(relative_difference_sq(cross_kernels, exact_kernels)))"
      ],
      "execution_count": 10,
      "outputs": [
        {
          "output_type": "stream",
          "name": "stdout",
          "text": [
            "Randomly sampled exact values = \n",
            "[ 0.05149488-0.03289361j  0.19137162-0.43431929j -0.4385241 -0.82627933j\n",
            "  0.18752862+0.56106448j  0.94690871-0.02855655j  0.25690723+0.99191005j\n",
            " -0.07547387-1.24845658j -0.02874753+0.15376566j  0.27653343-0.419711j\n",
            "  0.11229823+0.30159793j]\n",
            "\n",
            "Randomly sampled cross. approx. values = \n",
            "[ 0.05149488-0.03289361j  0.19137162-0.43431929j -0.4385241 -0.82627933j\n",
            "  0.18752862+0.56106448j  0.94690871-0.02855655j  0.25690723+0.99191005j\n",
            " -0.07547387-1.24845658j -0.02874753+0.15376566j  0.27653343-0.419711j\n",
            "  0.11229823+0.30159793j]\n",
            "\n",
            "Relative difference between tensors = 1.4210854715202004e-14\n"
          ]
        }
      ]
    },
    {
      "cell_type": "markdown",
      "metadata": {
        "id": "5zqj4UFZGAfY"
      },
      "source": [
        "We also compare bond dimensions of the exact TT format and the reconstructed one."
      ]
    },
    {
      "cell_type": "code",
      "metadata": {
        "colab": {
          "base_uri": "https://localhost:8080/",
          "height": 282
        },
        "id": "M9-pyj5V5q-O",
        "outputId": "59d7f4a2-d42a-47ce-b5ea-a6f3463fee8f"
      },
      "source": [
        "plt.plot([exact_kernels[0].shape[0]] + [ker.shape[2] for ker in exact_kernels], 'b')\n",
        "plt.plot([cross_kernels[0].shape[0]] + [ker.shape[2] for ker in cross_kernels], 'r--')\n",
        "plt.legend(['Bond dims. of the exact tensor', 'Bond dims. of the reconstructed tensor'])"
      ],
      "execution_count": 11,
      "outputs": [
        {
          "output_type": "execute_result",
          "data": {
            "text/plain": [
              "<matplotlib.legend.Legend at 0x7f11d6676dd0>"
            ]
          },
          "metadata": {},
          "execution_count": 11
        },
        {
          "output_type": "display_data",
          "data": {
            "image/png": "[encoded data removed]",
            "text/plain": [
              "<Figure size 432x288 with 1 Axes>"
            ]
          },
          "metadata": {
            "needs_background": "light"
          }
        }
      ]
    }
  ]
}